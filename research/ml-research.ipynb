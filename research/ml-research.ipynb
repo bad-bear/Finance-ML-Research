{
 "cells": [
  {
   "attachments": {},
   "cell_type": "markdown",
   "metadata": {},
   "source": [
    "# Stock Market Machine Learning Research\n",
    "\n",
    "There has been a large amount of theorizing into the context of being successful in the stock market using machine learning or algorithmic trading. This section of this repo is to conduct research and testing into whether it is possible or even viable to use machine learning to make decisions for generating a significant profit. This will be used to conduct research and be posted to the world once a conclusion of sorts has been created. \n",
    "\n",
    "This notebook will be organized in a way that both reflects my thought process and testing, but also generic process for how to make this application so that future researchers can follow along. The application will be organized in the following format:\n",
    "\n",
    "- Introduction\n",
    "- Purpose\n",
    "- Technology Stack\n",
    "- Data Collection\n",
    "- Data Preparation\n",
    "- Learning Methods\n",
    "- Testing\n",
    "- Results"
   ]
  },
  {
   "attachments": {},
   "cell_type": "markdown",
   "metadata": {},
   "source": []
  }
 ],
 "metadata": {
  "language_info": {
   "name": "python"
  },
  "orig_nbformat": 4
 },
 "nbformat": 4,
 "nbformat_minor": 2
}
