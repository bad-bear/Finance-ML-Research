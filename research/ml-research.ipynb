{
 "cells": [
  {
   "attachments": {},
   "cell_type": "markdown",
   "metadata": {},
   "source": [
    "# Stock Market Machine Learning Research\n",
    "\n",
    "There has been a large amount of theorizing into the context of being successful in the stock market using machine learning or algorithmic trading. This section of this repo is to conduct research and testing into whether it is possible or even viable to use machine learning to make decisions for generating a significant profit. This will be used to conduct research and be posted to the world once a conclusion of sorts has been created. \n",
    "\n",
    "This notebook will be organized in a way that both reflects my thought process and testing, but also generic process for how to make this application so that future researchers can follow along. The application will be organized in the following format:\n",
    "\n",
    "- Introduction\n",
    "- Purpose\n",
    "- Research\n",
    "- Technology Stack\n",
    "- Flow\n",
    "- Libraries\n",
    "- Data Collection\n",
    "- Data Preparation\n",
    "- Learning Methods\n",
    "- Testing\n",
    "- Results"
   ]
  },
  {
   "attachments": {},
   "cell_type": "markdown",
   "metadata": {},
   "source": [
    "## Introduction\n",
    "\n",
    "Financial success has always been a sin that we all strive for. This can be motivated by many things: passion, curiousity, rage, or something that can only be understood by the person in question. Either way the idea of tools and software streamlining and generating wealth is more of a pipe dream to that end. This has been proven to cause issues and problems with many people with unrealistic ideas of the concept. Hence why this will dive into depth about the truth and reality of such systems by both explaining and showing you the likely results.  "
   ]
  },
  {
   "attachments": {},
   "cell_type": "markdown",
   "metadata": {},
   "source": [
    "## Purpose"
   ]
  },
  {
   "attachments": {},
   "cell_type": "markdown",
   "metadata": {},
   "source": [
    "## Research"
   ]
  },
  {
   "attachments": {},
   "cell_type": "markdown",
   "metadata": {},
   "source": [
    "## Technology Stack\n",
    "\n",
    "### Programming Languages\n",
    "- Python\n",
    "- HTML\n",
    "- CSS\n",
    "\n",
    "### Data Management\n",
    "- CSV\n",
    "- App DB\n",
    "- Stream\n",
    "\n",
    "### Python Packages\n",
    "- Pandas\n",
    "- Numpy\n",
    "- Matplotlib\n",
    "- Requests\n",
    "- Sklearn\n",
    "- TensorFlow"
   ]
  },
  {
   "attachments": {},
   "cell_type": "markdown",
   "metadata": {},
   "source": [
    "## Libraries"
   ]
  },
  {
   "cell_type": "code",
   "execution_count": null,
   "metadata": {},
   "outputs": [],
   "source": [
    "# install packages\n",
    "#\"\"\"\n",
    "!pip3 install pandas\n",
    "!pip3 install numpy\n",
    "!pip3 install matplotlib\n",
    "!pip3 install requests\n",
    "!pip3 install sklearn\n",
    "!pip3 install tensorflow\n",
    "#\"\"\""
   ]
  },
  {
   "cell_type": "code",
   "execution_count": null,
   "metadata": {},
   "outputs": [],
   "source": [
    "# import libraries\n",
    "import pandas as pd\n",
    "import numpy as np\n",
    "import matplotlib as mp\n",
    "import requests as rq\n",
    "import sklearn as sk"
   ]
  },
  {
   "attachments": {},
   "cell_type": "markdown",
   "metadata": {},
   "source": [
    "## Data Collection"
   ]
  },
  {
   "attachments": {},
   "cell_type": "markdown",
   "metadata": {},
   "source": [
    "### Stationary Data / CSV"
   ]
  },
  {
   "cell_type": "code",
   "execution_count": null,
   "metadata": {},
   "outputs": [],
   "source": [
    "def data_csv():\n",
    "    pass"
   ]
  },
  {
   "attachments": {},
   "cell_type": "markdown",
   "metadata": {},
   "source": [
    "### Live Data / Stream"
   ]
  },
  {
   "cell_type": "code",
   "execution_count": null,
   "metadata": {},
   "outputs": [],
   "source": [
    "def data_stream():\n",
    "    pass"
   ]
  },
  {
   "attachments": {},
   "cell_type": "markdown",
   "metadata": {},
   "source": [
    "### Application Database / DB"
   ]
  },
  {
   "cell_type": "code",
   "execution_count": null,
   "metadata": {},
   "outputs": [],
   "source": [
    "def data_appdb():\n",
    "    pass"
   ]
  }
 ],
 "metadata": {
  "language_info": {
   "name": "python"
  },
  "orig_nbformat": 4
 },
 "nbformat": 4,
 "nbformat_minor": 2
}
